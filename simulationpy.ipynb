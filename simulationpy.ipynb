{
  "nbformat": 4,
  "nbformat_minor": 0,
  "metadata": {
    "colab": {
      "provenance": [],
      "authorship_tag": "ABX9TyOa+jQYCAxVrhV6Hw5FWTAl",
      "include_colab_link": true
    },
    "kernelspec": {
      "name": "python3",
      "display_name": "Python 3"
    },
    "language_info": {
      "name": "python"
    }
  },
  "cells": [
    {
      "cell_type": "markdown",
      "metadata": {
        "id": "view-in-github",
        "colab_type": "text"
      },
      "source": [
        "<a href=\"https://colab.research.google.com/github/anruki/PID-sistema-de-control/blob/main/simulationpy.ipynb\" target=\"_parent\"><img src=\"https://colab.research.google.com/assets/colab-badge.svg\" alt=\"Open In Colab\"/></a>"
      ]
    },
    {
      "cell_type": "markdown",
      "source": [
        "# SISTEMAS DE CONTROL – INGENIERÍA MATEMÁTICA\n",
        "## Inverted Pendulum Stabilization using PID Control `[Proyecto Final]`"
      ],
      "metadata": {
        "id": "JDcfvtNLtXu2"
      }
    },
    {
      "cell_type": "markdown",
      "source": [
        "\n",
        "Firstly, we install the `control` package in Python, which provides tools for control systems analysis and design."
      ],
      "metadata": {
        "id": "o_Ip4mUtnU9s"
      }
    },
    {
      "cell_type": "code",
      "source": [
        "!pip install control"
      ],
      "metadata": {
        "colab": {
          "base_uri": "https://localhost:8080/"
        },
        "id": "ixu2hUZNv27o",
        "outputId": "e6013e67-9330-4dd5-8050-7a7e7a6f6575"
      },
      "execution_count": 1,
      "outputs": [
        {
          "output_type": "stream",
          "name": "stdout",
          "text": [
            "Collecting control\n",
            "  Downloading control-0.10.0-py3-none-any.whl (513 kB)\n",
            "\u001b[2K     \u001b[90m━━━━━━━━━━━━━━━━━━━━━━━━━━━━━━━━━━━━━━━━\u001b[0m \u001b[32m513.9/513.9 kB\u001b[0m \u001b[31m4.3 MB/s\u001b[0m eta \u001b[36m0:00:00\u001b[0m\n",
            "\u001b[?25hRequirement already satisfied: numpy>=1.23 in /usr/local/lib/python3.10/dist-packages (from control) (1.25.2)\n",
            "Requirement already satisfied: scipy>=1.8 in /usr/local/lib/python3.10/dist-packages (from control) (1.11.4)\n",
            "Requirement already satisfied: matplotlib>=3.6 in /usr/local/lib/python3.10/dist-packages (from control) (3.7.1)\n",
            "Requirement already satisfied: contourpy>=1.0.1 in /usr/local/lib/python3.10/dist-packages (from matplotlib>=3.6->control) (1.2.1)\n",
            "Requirement already satisfied: cycler>=0.10 in /usr/local/lib/python3.10/dist-packages (from matplotlib>=3.6->control) (0.12.1)\n",
            "Requirement already satisfied: fonttools>=4.22.0 in /usr/local/lib/python3.10/dist-packages (from matplotlib>=3.6->control) (4.51.0)\n",
            "Requirement already satisfied: kiwisolver>=1.0.1 in /usr/local/lib/python3.10/dist-packages (from matplotlib>=3.6->control) (1.4.5)\n",
            "Requirement already satisfied: packaging>=20.0 in /usr/local/lib/python3.10/dist-packages (from matplotlib>=3.6->control) (24.0)\n",
            "Requirement already satisfied: pillow>=6.2.0 in /usr/local/lib/python3.10/dist-packages (from matplotlib>=3.6->control) (9.4.0)\n",
            "Requirement already satisfied: pyparsing>=2.3.1 in /usr/local/lib/python3.10/dist-packages (from matplotlib>=3.6->control) (3.1.2)\n",
            "Requirement already satisfied: python-dateutil>=2.7 in /usr/local/lib/python3.10/dist-packages (from matplotlib>=3.6->control) (2.8.2)\n",
            "Requirement already satisfied: six>=1.5 in /usr/local/lib/python3.10/dist-packages (from python-dateutil>=2.7->matplotlib>=3.6->control) (1.16.0)\n",
            "Installing collected packages: control\n",
            "Successfully installed control-0.10.0\n"
          ]
        }
      ]
    },
    {
      "cell_type": "markdown",
      "source": [
        "**1.   MODELING**\n",
        "\n"
      ],
      "metadata": {
        "id": "KSfKE1OavllT"
      }
    },
    {
      "cell_type": "markdown",
      "source": [
        "To model an inverted pendul system, we must define its transfer function given by:\n",
        "$$ G(s) = \\frac{1}{s^2 - \\frac{g}{l}} $$\n"
      ],
      "metadata": {
        "id": "LbjFXIK2Fkpk"
      }
    },
    {
      "cell_type": "code",
      "execution_count": 2,
      "metadata": {
        "id": "hSiiURTBpXLS"
      },
      "outputs": [],
      "source": [
        "import numpy as np\n",
        "import control as ctrl\n",
        "g = 9.81 # gravity (m/s^2)\n",
        "l = 1.0 # length of the pendulum (m)\n",
        "m = 1.0 # mass of the pendulum (kg)\n",
        "# Transfer function G(s) = 1 / (s^2 - g/l)\n",
        "num = [1]\n",
        "den = [1, 0, -g/l]\n",
        "G = ctrl.TransferFunction(num, den)\n"
      ]
    },
    {
      "cell_type": "markdown",
      "source": [
        "The transfer function is the result of linearalising and applying Laplace to the equations of motion of the inverted pendulum."
      ],
      "metadata": {
        "id": "kHiEXfRzGuTp"
      }
    },
    {
      "cell_type": "markdown",
      "source": [
        "**2.   STABILITY ANALISIS**"
      ],
      "metadata": {
        "id": "zFnR5o4Sxj4v"
      }
    },
    {
      "cell_type": "markdown",
      "source": [
        "The roots of the denominator of the transfer function G determine the stability of the system. Pyhon function `poles()` obtains these roots."
      ],
      "metadata": {
        "id": "kzPmbSs9G840"
      }
    },
    {
      "cell_type": "code",
      "source": [
        "poles = ctrl.poles(G)\n",
        "print(\"Poles of the system:\", poles)"
      ],
      "metadata": {
        "colab": {
          "base_uri": "https://localhost:8080/"
        },
        "id": "OFLXlVtCx0de",
        "outputId": "0bbe0dbd-cb08-4847-d2c7-5da27125034d"
      },
      "execution_count": 3,
      "outputs": [
        {
          "output_type": "stream",
          "name": "stdout",
          "text": [
            "Poles of the system: [-3.13209195+0.j  3.13209195+0.j]\n"
          ]
        }
      ]
    },
    {
      "cell_type": "markdown",
      "source": [
        "For our system, we have obtained the poles printed above, we identify that one of them is positive.\n",
        "\n",
        "According to the principle of Routh-Hurwitz, in order for a linear system to be stable, all of its poles must have negative real parts, that is they must all lie within the left-half of the s-plane.\n",
        "\n",
        "Therefore, the system is unstable.\n",
        "\n",
        "**Determine the range of system parameters for which the system is sta-\n",
        "ble**"
      ],
      "metadata": {
        "id": "erbBgsWxH1Ya"
      }
    },
    {
      "cell_type": "markdown",
      "source": [
        "**3. PID CONTROLLER DESIGN**"
      ],
      "metadata": {
        "id": "n5qtvyhuyQJG"
      }
    },
    {
      "cell_type": "markdown",
      "source": [],
      "metadata": {
        "id": "Vwy3eqt1KJNC"
      }
    },
    {
      "cell_type": "code",
      "source": [
        "Kp = 10.0\n",
        "Ki = 1.0\n",
        "Kd = 2.0\n",
        "# PID controller\n",
        "controller = ctrl.TransferFunction([Kd, Kp, Ki], [1, 0])\n"
      ],
      "metadata": {
        "id": "Evd3ncD-ydMG"
      },
      "execution_count": 4,
      "outputs": []
    },
    {
      "cell_type": "markdown",
      "source": [
        "to stabilize the inverted pendulum. They\n",
        "will determine the gains (Kp, Ki, Kd) using techniques like Ziegler-Nichols or\n",
        "by manually tuning the gains to achieve the desired performance"
      ],
      "metadata": {
        "id": "EvK3TH8CqHgT"
      }
    },
    {
      "cell_type": "markdown",
      "source": [
        "**4. SIMULATION**"
      ],
      "metadata": {
        "id": "Ao5gfx6hzWOY"
      }
    },
    {
      "cell_type": "markdown",
      "source": [
        "We observe the response of the system to different\n",
        "initial conditions and disturbances."
      ],
      "metadata": {
        "id": "w9UCjdcoqzvk"
      }
    },
    {
      "cell_type": "code",
      "source": [
        "import matplotlib.pyplot as plt\n",
        "# Closed-loop system\n",
        "closed_loop = ctrl.feedback(G * controller)\n",
        "# Time response\n",
        "t, y = ctrl.step_response(closed_loop)\n",
        "# Plotting\n",
        "plt.plot(t, y)\n",
        "plt.xlabel('Time (s)')\n",
        "plt.ylabel('Angle (rad)')\n",
        "plt.title('Step Response of Closed-Loop System')\n",
        "plt.grid(True)\n",
        "plt.show()\n"
      ],
      "metadata": {
        "colab": {
          "base_uri": "https://localhost:8080/",
          "height": 472
        },
        "id": "5-ohIzeKzfak",
        "outputId": "e7f5be22-4c18-4119-8934-d1ea7e47c188"
      },
      "execution_count": 5,
      "outputs": [
        {
          "output_type": "display_data",
          "data": {
            "text/plain": [
              "<Figure size 640x480 with 1 Axes>"
            ],
            "image/png": "[encoded data removed]"
          },
          "metadata": {}
        }
      ]
    },
    {
      "cell_type": "markdown",
      "source": [
        "**5. PERFORMANCE ANALYSIS**"
      ],
      "metadata": {
        "id": "TY_hvlHNzqlU"
      }
    },
    {
      "cell_type": "markdown",
      "source": [
        "Students will analyze the performance of the controlled system in terms of set-\n",
        "tling time, overshoot, and steady-state error. They will also investigate the\n",
        "robustness of the controller to parameter variations and noise."
      ],
      "metadata": {
        "id": "3TcWM8uaq6Lx"
      }
    },
    {
      "cell_type": "code",
      "source": [],
      "metadata": {
        "id": "V9VAjGkqq53n"
      },
      "execution_count": 5,
      "outputs": []
    },
    {
      "cell_type": "markdown",
      "source": [
        "**6. VISUALIZATION**\n",
        "\n"
      ],
      "metadata": {
        "id": "DfKVHvlXrqvb"
      }
    },
    {
      "cell_type": "code",
      "source": [
        "import matplotlib.animation as animation\n",
        "def animate(i):\n",
        "  line.set_data([0, np.sin(y[i])], [0, np.cos(y[i])])\n",
        "  return line,\n",
        "fig, ax = plt.subplots()\n",
        "ax.set_xlim(-1.5, 1.5)\n",
        "ax.set_ylim(-1.5, 1.5)\n",
        "line, = ax.plot([], [], 'o-', lw=2)\n",
        "ani = animation.FuncAnimation(fig, animate, frames=len(y), interval=50, blit=True)\n",
        "plt.show()"
      ],
      "metadata": {
        "id": "Rx9IhaRPsIAL",
        "outputId": "794643a4-0546-479b-ab96-e5d30d18feb3",
        "colab": {
          "base_uri": "https://localhost:8080/",
          "height": 435
        }
      },
      "execution_count": 6,
      "outputs": [
        {
          "output_type": "display_data",
          "data": {
            "text/plain": [
              "<Figure size 640x480 with 1 Axes>"
            ],
            "image/png": "[encoded data removed]"
          },
          "metadata": {}
        }
      ]
    }
  ]
}